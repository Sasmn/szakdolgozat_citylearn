{
 "cells": [
  {
   "cell_type": "code",
   "execution_count": 1,
   "metadata": {},
   "outputs": [
    {
     "name": "stderr",
     "output_type": "stream",
     "text": [
      "C:\\Users\\Domonkos\\AppData\\Local\\Packages\\PythonSoftwareFoundation.Python.3.10_qbz5n2kfra8p0\\LocalCache\\local-packages\\Python310\\site-packages\\pandas\\util\\_decorators.py:311: ParserWarning: Falling back to the 'python' engine because the 'c' engine does not support regex separators (separators > 1 char and different from '\\s+' are interpreted as regex); you can avoid this warning by specifying engine='python'.\n",
      "  return func(*args, **kwargs)\n"
     ]
    }
   ],
   "source": [
    "import pandas as pd\n",
    "\n",
    "csv_file_path = 'weather_data_budapest_pestszentlorinc.csv'\n",
    "\n",
    "# Read the CSV file into a pandas DataFrame\n",
    "df = pd.read_csv(csv_file_path, sep=';\\\\s*', header=0)"
   ]
  },
  {
   "cell_type": "code",
   "execution_count": 2,
   "metadata": {},
   "outputs": [],
   "source": [
    "weather_data = pd.read_csv(\"./data/citylearn_challenge_2023_phase_3_3/weather.csv\", header=0)"
   ]
  },
  {
   "cell_type": "code",
   "execution_count": 3,
   "metadata": {},
   "outputs": [
    {
     "name": "stdout",
     "output_type": "stream",
     "text": [
      "2209 2209 2209\n",
      "2209\n"
     ]
    }
   ],
   "source": [
    "import numpy as np\n",
    "\n",
    "# Convert the 'Datetime' column to datetime format\n",
    "df['Datetime'] = pd.to_datetime(df['Time'], format='%Y%m%d%H%M', errors='coerce')\n",
    "\n",
    "filtered_df = df[(df['Datetime'] >= pd.to_datetime('2023-06-01 00:00:00')) & (df['Datetime'] <= pd.to_datetime('2023-09-01 00:00:00'))]\n",
    "filtered_df_6h = df[(df['Datetime'] >= pd.to_datetime('2023-06-01 06:00:00')) & (df['Datetime'] <= pd.to_datetime('2023-09-01 06:00:00'))]\n",
    "filtered_df_12h = df[(df['Datetime'] >= pd.to_datetime('2023-06-01 12:00:00')) & (df['Datetime'] <= pd.to_datetime('2023-09-01 12:00:00'))]\n",
    "filtered_df_24h = df[(df['Datetime'] >= pd.to_datetime('2023-06-02 00:00:00')) & (df['Datetime'] <= pd.to_datetime('2023-09-02 00:00:00'))]\n",
    "\n",
    "print(len(filtered_df_6h), len(filtered_df_12h), len(filtered_df_24h))\n",
    "print(len(filtered_df))\n",
    "\n",
    "\n",
    "filtered_df.reset_index(drop=True, inplace=True)\n",
    "filtered_df_6h.reset_index(drop=True, inplace=True)\n",
    "filtered_df_12h.reset_index(drop=True, inplace=True)\n",
    "filtered_df_24h.reset_index(drop=True, inplace=True)\n",
    "\n",
    "weather_data = weather_data[:2208]\n",
    "weather_data_6h = weather_data[6:2214]\n",
    "weather_data_12h = weather_data[12:2220]\n",
    "weather_data_24h = weather_data[24:2232]\n",
    "\n",
    "weather_data.reset_index(drop=True, inplace=True)\n",
    "weather_data_6h.reset_index(drop=True, inplace=True)\n",
    "weather_data_12h.reset_index(drop=True, inplace=True)\n",
    "weather_data_24h.reset_index(drop=True, inplace=True)\n",
    "\n",
    "# Initialize a dictionary to store data month by month\n",
    "budapest_weather_data = []\n",
    "\n",
    "month_data = {\n",
    "    'Outdoor Drybulb Temperature (C)': filtered_df['t'],\n",
    "    '6h Outdoor Drybulb Temperature (C)': filtered_df_6h['t'],\n",
    "    '12h Outdoor Drybulb Temperature (C)': filtered_df_12h['t'],\n",
    "    '24h Outdoor Drybulb Temperature (C)': filtered_df_24h['t'],\n",
    "    'Outdoor Relative Humidity (%)': filtered_df['u'],\n",
    "    '6h Outdoor Relative Humidity (%)': filtered_df_6h['u'],\n",
    "    '12h Outdoor Relative Humidity (%)': filtered_df_12h['u'],\n",
    "    '24h Outdoor Relative Humidity (%)': filtered_df_24h['u'],\n",
    "    'Diffuse Solar Radiation (W/m2)': np.nan_to_num(filtered_df['sr'] * weather_data['Diffuse Solar Radiation (W/m2)'] / (weather_data['Direct Solar Radiation (W/m2)'] + weather_data['Diffuse Solar Radiation (W/m2)'])),\n",
    "    '6h Diffuse Solar Radiation (W/m2)': np.nan_to_num(filtered_df_6h['sr'] * weather_data_6h['Diffuse Solar Radiation (W/m2)'] / (weather_data_6h['Direct Solar Radiation (W/m2)'] + weather_data_6h['Diffuse Solar Radiation (W/m2)'])),\n",
    "    '12h Diffuse Solar Radiation (W/m2)': np.nan_to_num(filtered_df_12h['sr'] * weather_data_12h['Diffuse Solar Radiation (W/m2)'] / (weather_data_12h['Direct Solar Radiation (W/m2)'] + weather_data_12h['Diffuse Solar Radiation (W/m2)'])),\n",
    "    '24h Diffuse Solar Radiation (W/m2)': np.nan_to_num(filtered_df_24h['sr'] * weather_data_24h['Diffuse Solar Radiation (W/m2)'] / (weather_data_24h['Direct Solar Radiation (W/m2)'] + weather_data_24h['Diffuse Solar Radiation (W/m2)'])),\n",
    "    'Direct Solar Radiation (W/m2)': np.nan_to_num(filtered_df['sr'] * weather_data['Direct Solar Radiation (W/m2)'] / (weather_data['Direct Solar Radiation (W/m2)'] + weather_data['Diffuse Solar Radiation (W/m2)'])),\n",
    "    '6h Direct Solar Radiation (W/m2)': np.nan_to_num(filtered_df_6h['sr'] * weather_data_6h['Direct Solar Radiation (W/m2)'] / (weather_data_6h['Direct Solar Radiation (W/m2)'] + weather_data_6h['Diffuse Solar Radiation (W/m2)'])),\n",
    "    '12h Direct Solar Radiation (W/m2)': np.nan_to_num(filtered_df_12h['sr'] * weather_data_12h['Direct Solar Radiation (W/m2)'] / (weather_data_12h['Direct Solar Radiation (W/m2)'] + weather_data_12h['Diffuse Solar Radiation (W/m2)'])),\n",
    "    '24h Direct Solar Radiation (W/m2)': np.nan_to_num(filtered_df_24h['sr'] * weather_data_24h['Direct Solar Radiation (W/m2)'] / (weather_data_24h['Direct Solar Radiation (W/m2)'] + weather_data_24h['Diffuse Solar Radiation (W/m2)'])),\n",
    "}\n",
    "\n",
    "budapest_weather_data = pd.DataFrame(month_data)\n",
    "\n",
    "budapest_weather_data.to_csv('data/citylearn_challenge_2023_phase_3_3/weather_HU.csv', index=False)"
   ]
  }
 ],
 "metadata": {
  "kernelspec": {
   "display_name": "Python 3",
   "language": "python",
   "name": "python3"
  },
  "language_info": {
   "codemirror_mode": {
    "name": "ipython",
    "version": 3
   },
   "file_extension": ".py",
   "mimetype": "text/x-python",
   "name": "python",
   "nbconvert_exporter": "python",
   "pygments_lexer": "ipython3",
   "version": "3.10.11"
  }
 },
 "nbformat": 4,
 "nbformat_minor": 2
}
