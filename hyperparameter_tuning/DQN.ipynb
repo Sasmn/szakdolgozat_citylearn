{
 "cells": [
  {
   "cell_type": "code",
   "execution_count": 1,
   "metadata": {},
   "outputs": [],
   "source": [
    "%load_ext autoreload\n",
    "%autoreload 2"
   ]
  },
  {
   "cell_type": "code",
   "execution_count": 1,
   "metadata": {},
   "outputs": [
    {
     "name": "stdout",
     "output_type": "stream",
     "text": [
      "Active buuldings in the schema: \n",
      "Building_1\n",
      "Building_2\n",
      "\n",
      "\n",
      "Active observations in the schema: \n",
      "month\n",
      "day_type\n",
      "hour\n",
      "daylight_savings_status\n",
      "outdoor_dry_bulb_temperature\n",
      "outdoor_dry_bulb_temperature_predicted_6h\n",
      "outdoor_dry_bulb_temperature_predicted_12h\n",
      "outdoor_dry_bulb_temperature_predicted_24h\n",
      "outdoor_relative_humidity\n",
      "outdoor_relative_humidity_predicted_6h\n",
      "outdoor_relative_humidity_predicted_12h\n",
      "outdoor_relative_humidity_predicted_24h\n",
      "diffuse_solar_irradiance\n",
      "diffuse_solar_irradiance_predicted_6h\n",
      "diffuse_solar_irradiance_predicted_12h\n",
      "diffuse_solar_irradiance_predicted_24h\n",
      "direct_solar_irradiance\n",
      "direct_solar_irradiance_predicted_6h\n",
      "direct_solar_irradiance_predicted_12h\n",
      "direct_solar_irradiance_predicted_24h\n",
      "carbon_intensity\n",
      "indoor_dry_bulb_temperature\n",
      "average_unmet_cooling_setpoint_difference\n",
      "indoor_relative_humidity\n",
      "non_shiftable_load\n",
      "solar_generation\n",
      "cooling_storage_soc\n",
      "heating_storage_soc\n",
      "dhw_storage_soc\n",
      "electrical_storage_soc\n",
      "net_electricity_consumption\n",
      "electricity_pricing\n",
      "electricity_pricing_predicted_6h\n",
      "electricity_pricing_predicted_12h\n",
      "electricity_pricing_predicted_24h\n",
      "cooling_device_cop\n",
      "heating_device_cop\n",
      "cooling_demand\n",
      "heating_demand\n",
      "dhw_demand\n",
      "cooling_electricity_consumption\n",
      "heating_electricity_consumption\n",
      "dhw_electricity_consumption\n",
      "occupant_count\n",
      "indoor_dry_bulb_temperature_set_point\n",
      "indoor_dry_bulb_temperature_delta\n",
      "power_outage\n",
      "\n",
      "\n",
      "Active actions in the schema: \n",
      "dhw_storage\n",
      "electrical_storage\n",
      "cooling_device\n",
      "\n",
      "\n",
      "Reward function: \n",
      "citylearn.reward_function.ComfortReward\n"
     ]
    }
   ],
   "source": [
    "# DATA PREPROCESSING\n",
    "import numpy as np\n",
    "from citylearn.data import DataSet\n",
    "\n",
    "dataset_name = 'citylearn_challenge_2023_phase_3_3'\n",
    "\n",
    "schema = DataSet.get_schema(dataset_name)\n",
    "random_seed = 42\n",
    "np.random.seed(random_seed)\n",
    "\n",
    "buildings = list(schema['buildings'].keys())\n",
    "buildings = np.random.choice(buildings, size=2, replace=False).tolist()\n",
    "\n",
    "print(\"Active buuldings in the schema: \")\n",
    "for building in schema['buildings']:\n",
    "    if building in buildings:\n",
    "        schema['buildings'][building]['include'] = True\n",
    "        print(building)\n",
    "    else:\n",
    "        schema['buildings'][building]['include'] = False\n",
    "\n",
    "\n",
    "print(\"\\n\\nActive observations in the schema: \")\n",
    "active_observations = 'all'\n",
    "for observation in schema['observations']:\n",
    "    if active_observations == 'all':\n",
    "        schema['observations'][observation]['active'] = True\n",
    "        schema['observations'][observation]['shared_in_central_agent'] = True\n",
    "        print(observation)\n",
    "    else:\n",
    "        if observation in active_observations:\n",
    "            schema['observations'][observation]['active'] = True\n",
    "            schema['observations'][observation]['shared_in_central_agent'] = True\n",
    "            print(observation)\n",
    "        else:\n",
    "            schema['observations'][observation]['active'] = False\n",
    "            schema['observations'][observation]['shared_in_central_agent'] = False\n",
    "\n",
    "print(\"\\n\\nActive actions in the schema: \")\n",
    "for action in schema['actions']:\n",
    "    if schema['actions'][action]['active']:\n",
    "        print(action)\n",
    "\n",
    "# active_actions = 'all'\n",
    "# for action in schema['actions']:\n",
    "#     if active_actions == 'all':\n",
    "#         schema['actions'][action]['active'] = True\n",
    "#         print(action)\n",
    "#     else:\n",
    "#         if action in active_actions:\n",
    "#             schema['actions'][action]['active'] = True\n",
    "#             print(action)\n",
    "#         else:\n",
    "#             schema['actions'][action]['active'] = False\n",
    "\n",
    "schema['simulation_start_time_step'] = 1\n",
    "lenght_of_simulation_in_days = 7\n",
    "schema['simulation_end_time_step'] = lenght_of_simulation_in_days * 24\n",
    "\n",
    "schema['reward_function']['type'] = \"citylearn.reward_function.ComfortReward\"\n",
    "\n",
    "print(\"\\n\\nReward function: \")\n",
    "print(schema['reward_function']['type'])\n",
    "number_of_episodes = 3"
   ]
  },
  {
   "cell_type": "code",
   "execution_count": 11,
   "metadata": {},
   "outputs": [
    {
     "data": {
      "application/vnd.jupyter.widget-view+json": {
       "model_id": "1f3cdd0916e34926baadd7c3e9891964",
       "version_major": 2,
       "version_minor": 0
      },
      "text/plain": [
       "Output()"
      ]
     },
     "metadata": {},
     "output_type": "display_data"
    },
    {
     "data": {
      "text/html": [
       "<pre style=\"white-space:pre;overflow-x:auto;line-height:normal;font-family:Menlo,'DejaVu Sans Mono',consolas,'Courier New',monospace\">random action\n",
       "</pre>\n"
      ],
      "text/plain": [
       "random action\n"
      ]
     },
     "metadata": {},
     "output_type": "display_data"
    },
    {
     "data": {
      "text/html": [
       "<pre style=\"white-space:pre;overflow-x:auto;line-height:normal;font-family:Menlo,'DejaVu Sans Mono',consolas,'Courier New',monospace\">random action\n",
       "</pre>\n"
      ],
      "text/plain": [
       "random action\n"
      ]
     },
     "metadata": {},
     "output_type": "display_data"
    },
    {
     "data": {
      "text/html": [
       "<pre style=\"white-space:pre;overflow-x:auto;line-height:normal;font-family:Menlo,'DejaVu Sans Mono',consolas,'Courier New',monospace\">random action\n",
       "</pre>\n"
      ],
      "text/plain": [
       "random action\n"
      ]
     },
     "metadata": {},
     "output_type": "display_data"
    },
    {
     "data": {
      "text/html": [
       "<pre style=\"white-space:pre;overflow-x:auto;line-height:normal;font-family:Menlo,'DejaVu Sans Mono',consolas,'Courier New',monospace\">random action\n",
       "</pre>\n"
      ],
      "text/plain": [
       "random action\n"
      ]
     },
     "metadata": {},
     "output_type": "display_data"
    },
    {
     "data": {
      "text/html": [
       "<pre style=\"white-space:pre;overflow-x:auto;line-height:normal;font-family:Menlo,'DejaVu Sans Mono',consolas,'Courier New',monospace\">random action\n",
       "</pre>\n"
      ],
      "text/plain": [
       "random action\n"
      ]
     },
     "metadata": {},
     "output_type": "display_data"
    },
    {
     "data": {
      "text/html": [
       "<pre style=\"white-space:pre;overflow-x:auto;line-height:normal;font-family:Menlo,'DejaVu Sans Mono',consolas,'Courier New',monospace\">random action\n",
       "</pre>\n"
      ],
      "text/plain": [
       "random action\n"
      ]
     },
     "metadata": {},
     "output_type": "display_data"
    },
    {
     "data": {
      "text/html": [
       "<pre style=\"white-space:pre;overflow-x:auto;line-height:normal;font-family:Menlo,'DejaVu Sans Mono',consolas,'Courier New',monospace\">random action\n",
       "</pre>\n"
      ],
      "text/plain": [
       "random action\n"
      ]
     },
     "metadata": {},
     "output_type": "display_data"
    },
    {
     "data": {
      "text/html": [
       "<pre style=\"white-space:pre;overflow-x:auto;line-height:normal;font-family:Menlo,'DejaVu Sans Mono',consolas,'Courier New',monospace\">random action\n",
       "</pre>\n"
      ],
      "text/plain": [
       "random action\n"
      ]
     },
     "metadata": {},
     "output_type": "display_data"
    },
    {
     "data": {
      "text/html": [
       "<pre style=\"white-space:pre;overflow-x:auto;line-height:normal;font-family:Menlo,'DejaVu Sans Mono',consolas,'Courier New',monospace\">random action\n",
       "</pre>\n"
      ],
      "text/plain": [
       "random action\n"
      ]
     },
     "metadata": {},
     "output_type": "display_data"
    },
    {
     "data": {
      "text/html": [
       "<pre style=\"white-space:pre;overflow-x:auto;line-height:normal;font-family:Menlo,'DejaVu Sans Mono',consolas,'Courier New',monospace\">random action\n",
       "</pre>\n"
      ],
      "text/plain": [
       "random action\n"
      ]
     },
     "metadata": {},
     "output_type": "display_data"
    },
    {
     "name": "stdout",
     "output_type": "stream",
     "text": [
      "Using cpu device\n",
      "Wrapping the env with a `Monitor` wrapper\n",
      "Wrapping the env in a DummyVecEnv.\n"
     ]
    },
    {
     "data": {
      "text/html": [
       "<pre style=\"white-space:pre;overflow-x:auto;line-height:normal;font-family:Menlo,'DejaVu Sans Mono',consolas,'Courier New',monospace\">random action\n",
       "</pre>\n"
      ],
      "text/plain": [
       "random action\n"
      ]
     },
     "metadata": {},
     "output_type": "display_data"
    },
    {
     "data": {
      "text/html": [
       "<pre style=\"white-space:pre;overflow-x:auto;line-height:normal;font-family:Menlo,'DejaVu Sans Mono',consolas,'Courier New',monospace\">random action\n",
       "</pre>\n"
      ],
      "text/plain": [
       "random action\n"
      ]
     },
     "metadata": {},
     "output_type": "display_data"
    },
    {
     "data": {
      "text/html": [
       "<pre style=\"white-space:pre;overflow-x:auto;line-height:normal;font-family:Menlo,'DejaVu Sans Mono',consolas,'Courier New',monospace\">random action\n",
       "</pre>\n"
      ],
      "text/plain": [
       "random action\n"
      ]
     },
     "metadata": {},
     "output_type": "display_data"
    },
    {
     "data": {
      "text/html": [
       "<pre style=\"white-space:pre;overflow-x:auto;line-height:normal;font-family:Menlo,'DejaVu Sans Mono',consolas,'Courier New',monospace\">random action\n",
       "</pre>\n"
      ],
      "text/plain": [
       "random action\n"
      ]
     },
     "metadata": {},
     "output_type": "display_data"
    },
    {
     "data": {
      "text/html": [
       "<pre style=\"white-space:pre;overflow-x:auto;line-height:normal;font-family:Menlo,'DejaVu Sans Mono',consolas,'Courier New',monospace\">random action\n",
       "</pre>\n"
      ],
      "text/plain": [
       "random action\n"
      ]
     },
     "metadata": {},
     "output_type": "display_data"
    },
    {
     "data": {
      "text/html": [
       "<pre style=\"white-space:pre;overflow-x:auto;line-height:normal;font-family:Menlo,'DejaVu Sans Mono',consolas,'Courier New',monospace\">random action\n",
       "</pre>\n"
      ],
      "text/plain": [
       "random action\n"
      ]
     },
     "metadata": {},
     "output_type": "display_data"
    },
    {
     "data": {
      "text/html": [
       "<pre style=\"white-space:pre;overflow-x:auto;line-height:normal;font-family:Menlo,'DejaVu Sans Mono',consolas,'Courier New',monospace\">random action\n",
       "</pre>\n"
      ],
      "text/plain": [
       "random action\n"
      ]
     },
     "metadata": {},
     "output_type": "display_data"
    },
    {
     "data": {
      "text/html": [
       "<pre style=\"white-space:pre;overflow-x:auto;line-height:normal;font-family:Menlo,'DejaVu Sans Mono',consolas,'Courier New',monospace\">random action\n",
       "</pre>\n"
      ],
      "text/plain": [
       "random action\n"
      ]
     },
     "metadata": {},
     "output_type": "display_data"
    },
    {
     "data": {
      "text/html": [
       "<pre style=\"white-space:pre;overflow-x:auto;line-height:normal;font-family:Menlo,'DejaVu Sans Mono',consolas,'Courier New',monospace\">random action\n",
       "</pre>\n"
      ],
      "text/plain": [
       "random action\n"
      ]
     },
     "metadata": {},
     "output_type": "display_data"
    },
    {
     "data": {
      "text/html": [
       "<pre style=\"white-space:pre;overflow-x:auto;line-height:normal;font-family:Menlo,'DejaVu Sans Mono',consolas,'Courier New',monospace\">random action\n",
       "</pre>\n"
      ],
      "text/plain": [
       "random action\n"
      ]
     },
     "metadata": {},
     "output_type": "display_data"
    },
    {
     "data": {
      "text/html": [
       "<pre style=\"white-space:pre;overflow-x:auto;line-height:normal;font-family:Menlo,'DejaVu Sans Mono',consolas,'Courier New',monospace\">random action\n",
       "</pre>\n"
      ],
      "text/plain": [
       "random action\n"
      ]
     },
     "metadata": {},
     "output_type": "display_data"
    },
    {
     "data": {
      "text/html": [
       "<pre style=\"white-space:pre;overflow-x:auto;line-height:normal;font-family:Menlo,'DejaVu Sans Mono',consolas,'Courier New',monospace\">random action\n",
       "</pre>\n"
      ],
      "text/plain": [
       "random action\n"
      ]
     },
     "metadata": {},
     "output_type": "display_data"
    },
    {
     "data": {
      "text/html": [
       "<pre style=\"white-space:pre;overflow-x:auto;line-height:normal;font-family:Menlo,'DejaVu Sans Mono',consolas,'Courier New',monospace\">random action\n",
       "</pre>\n"
      ],
      "text/plain": [
       "random action\n"
      ]
     },
     "metadata": {},
     "output_type": "display_data"
    },
    {
     "data": {
      "text/html": [
       "<pre style=\"white-space:pre;overflow-x:auto;line-height:normal;font-family:Menlo,'DejaVu Sans Mono',consolas,'Courier New',monospace\">random action\n",
       "</pre>\n"
      ],
      "text/plain": [
       "random action\n"
      ]
     },
     "metadata": {},
     "output_type": "display_data"
    },
    {
     "data": {
      "text/html": [
       "<pre style=\"white-space:pre;overflow-x:auto;line-height:normal;font-family:Menlo,'DejaVu Sans Mono',consolas,'Courier New',monospace\">random action\n",
       "</pre>\n"
      ],
      "text/plain": [
       "random action\n"
      ]
     },
     "metadata": {},
     "output_type": "display_data"
    },
    {
     "data": {
      "text/html": [
       "<pre style=\"white-space:pre;overflow-x:auto;line-height:normal;font-family:Menlo,'DejaVu Sans Mono',consolas,'Courier New',monospace\">random action\n",
       "</pre>\n"
      ],
      "text/plain": [
       "random action\n"
      ]
     },
     "metadata": {},
     "output_type": "display_data"
    },
    {
     "data": {
      "text/html": [
       "<pre style=\"white-space:pre;overflow-x:auto;line-height:normal;font-family:Menlo,'DejaVu Sans Mono',consolas,'Courier New',monospace\">random action\n",
       "</pre>\n"
      ],
      "text/plain": [
       "random action\n"
      ]
     },
     "metadata": {},
     "output_type": "display_data"
    },
    {
     "data": {
      "text/html": [
       "<pre style=\"white-space:pre;overflow-x:auto;line-height:normal;font-family:Menlo,'DejaVu Sans Mono',consolas,'Courier New',monospace\">random action\n",
       "</pre>\n"
      ],
      "text/plain": [
       "random action\n"
      ]
     },
     "metadata": {},
     "output_type": "display_data"
    },
    {
     "data": {
      "text/html": [
       "<pre style=\"white-space:pre;overflow-x:auto;line-height:normal;font-family:Menlo,'DejaVu Sans Mono',consolas,'Courier New',monospace\">random action\n",
       "</pre>\n"
      ],
      "text/plain": [
       "random action\n"
      ]
     },
     "metadata": {},
     "output_type": "display_data"
    },
    {
     "data": {
      "text/html": [
       "<pre style=\"white-space:pre;overflow-x:auto;line-height:normal;font-family:Menlo,'DejaVu Sans Mono',consolas,'Courier New',monospace\">random action\n",
       "</pre>\n"
      ],
      "text/plain": [
       "random action\n"
      ]
     },
     "metadata": {},
     "output_type": "display_data"
    },
    {
     "data": {
      "text/html": [
       "<pre style=\"white-space:pre;overflow-x:auto;line-height:normal;font-family:Menlo,'DejaVu Sans Mono',consolas,'Courier New',monospace\">random action\n",
       "</pre>\n"
      ],
      "text/plain": [
       "random action\n"
      ]
     },
     "metadata": {},
     "output_type": "display_data"
    },
    {
     "data": {
      "text/html": [
       "<pre style=\"white-space:pre;overflow-x:auto;line-height:normal;font-family:Menlo,'DejaVu Sans Mono',consolas,'Courier New',monospace\">random action\n",
       "</pre>\n"
      ],
      "text/plain": [
       "random action\n"
      ]
     },
     "metadata": {},
     "output_type": "display_data"
    },
    {
     "data": {
      "text/html": [
       "<pre style=\"white-space:pre;overflow-x:auto;line-height:normal;font-family:Menlo,'DejaVu Sans Mono',consolas,'Courier New',monospace\">random action\n",
       "</pre>\n"
      ],
      "text/plain": [
       "random action\n"
      ]
     },
     "metadata": {},
     "output_type": "display_data"
    },
    {
     "data": {
      "text/html": [
       "<pre style=\"white-space:pre;overflow-x:auto;line-height:normal;font-family:Menlo,'DejaVu Sans Mono',consolas,'Courier New',monospace\">random action\n",
       "</pre>\n"
      ],
      "text/plain": [
       "random action\n"
      ]
     },
     "metadata": {},
     "output_type": "display_data"
    },
    {
     "data": {
      "text/html": [
       "<pre style=\"white-space:pre;overflow-x:auto;line-height:normal;font-family:Menlo,'DejaVu Sans Mono',consolas,'Courier New',monospace\">random action\n",
       "</pre>\n"
      ],
      "text/plain": [
       "random action\n"
      ]
     },
     "metadata": {},
     "output_type": "display_data"
    },
    {
     "data": {
      "text/html": [
       "<pre style=\"white-space:pre;overflow-x:auto;line-height:normal;font-family:Menlo,'DejaVu Sans Mono',consolas,'Courier New',monospace\">random action\n",
       "</pre>\n"
      ],
      "text/plain": [
       "random action\n"
      ]
     },
     "metadata": {},
     "output_type": "display_data"
    },
    {
     "data": {
      "text/html": [
       "<pre style=\"white-space:pre;overflow-x:auto;line-height:normal;font-family:Menlo,'DejaVu Sans Mono',consolas,'Courier New',monospace\">random action\n",
       "</pre>\n"
      ],
      "text/plain": [
       "random action\n"
      ]
     },
     "metadata": {},
     "output_type": "display_data"
    },
    {
     "data": {
      "text/html": [
       "<pre style=\"white-space:pre;overflow-x:auto;line-height:normal;font-family:Menlo,'DejaVu Sans Mono',consolas,'Courier New',monospace\">random action\n",
       "</pre>\n"
      ],
      "text/plain": [
       "random action\n"
      ]
     },
     "metadata": {},
     "output_type": "display_data"
    },
    {
     "data": {
      "text/html": [
       "<pre style=\"white-space:pre;overflow-x:auto;line-height:normal;font-family:Menlo,'DejaVu Sans Mono',consolas,'Courier New',monospace\">random action\n",
       "</pre>\n"
      ],
      "text/plain": [
       "random action\n"
      ]
     },
     "metadata": {},
     "output_type": "display_data"
    },
    {
     "data": {
      "text/html": [
       "<pre style=\"white-space:pre;overflow-x:auto;line-height:normal;font-family:Menlo,'DejaVu Sans Mono',consolas,'Courier New',monospace\">random action\n",
       "</pre>\n"
      ],
      "text/plain": [
       "random action\n"
      ]
     },
     "metadata": {},
     "output_type": "display_data"
    },
    {
     "data": {
      "text/html": [
       "<pre style=\"white-space:pre;overflow-x:auto;line-height:normal;font-family:Menlo,'DejaVu Sans Mono',consolas,'Courier New',monospace\">random action\n",
       "</pre>\n"
      ],
      "text/plain": [
       "random action\n"
      ]
     },
     "metadata": {},
     "output_type": "display_data"
    },
    {
     "data": {
      "text/html": [
       "<pre style=\"white-space:pre;overflow-x:auto;line-height:normal;font-family:Menlo,'DejaVu Sans Mono',consolas,'Courier New',monospace\">random action\n",
       "</pre>\n"
      ],
      "text/plain": [
       "random action\n"
      ]
     },
     "metadata": {},
     "output_type": "display_data"
    },
    {
     "data": {
      "text/html": [
       "<pre style=\"white-space:pre;overflow-x:auto;line-height:normal;font-family:Menlo,'DejaVu Sans Mono',consolas,'Courier New',monospace\">random action\n",
       "</pre>\n"
      ],
      "text/plain": [
       "random action\n"
      ]
     },
     "metadata": {},
     "output_type": "display_data"
    },
    {
     "data": {
      "text/html": [
       "<pre style=\"white-space:pre;overflow-x:auto;line-height:normal;font-family:Menlo,'DejaVu Sans Mono',consolas,'Courier New',monospace\">random action\n",
       "</pre>\n"
      ],
      "text/plain": [
       "random action\n"
      ]
     },
     "metadata": {},
     "output_type": "display_data"
    },
    {
     "data": {
      "text/html": [
       "<pre style=\"white-space:pre;overflow-x:auto;line-height:normal;font-family:Menlo,'DejaVu Sans Mono',consolas,'Courier New',monospace\">random action\n",
       "</pre>\n"
      ],
      "text/plain": [
       "random action\n"
      ]
     },
     "metadata": {},
     "output_type": "display_data"
    },
    {
     "data": {
      "text/html": [
       "<pre style=\"white-space:pre;overflow-x:auto;line-height:normal;font-family:Menlo,'DejaVu Sans Mono',consolas,'Courier New',monospace\">random action\n",
       "</pre>\n"
      ],
      "text/plain": [
       "random action\n"
      ]
     },
     "metadata": {},
     "output_type": "display_data"
    },
    {
     "data": {
      "text/html": [
       "<pre style=\"white-space:pre;overflow-x:auto;line-height:normal;font-family:Menlo,'DejaVu Sans Mono',consolas,'Courier New',monospace\">random action\n",
       "</pre>\n"
      ],
      "text/plain": [
       "random action\n"
      ]
     },
     "metadata": {},
     "output_type": "display_data"
    },
    {
     "data": {
      "text/html": [
       "<pre style=\"white-space:pre;overflow-x:auto;line-height:normal;font-family:Menlo,'DejaVu Sans Mono',consolas,'Courier New',monospace\">random action\n",
       "</pre>\n"
      ],
      "text/plain": [
       "random action\n"
      ]
     },
     "metadata": {},
     "output_type": "display_data"
    },
    {
     "data": {
      "text/html": [
       "<pre style=\"white-space:pre;overflow-x:auto;line-height:normal;font-family:Menlo,'DejaVu Sans Mono',consolas,'Courier New',monospace\">random action\n",
       "</pre>\n"
      ],
      "text/plain": [
       "random action\n"
      ]
     },
     "metadata": {},
     "output_type": "display_data"
    },
    {
     "data": {
      "text/html": [
       "<pre style=\"white-space:pre;overflow-x:auto;line-height:normal;font-family:Menlo,'DejaVu Sans Mono',consolas,'Courier New',monospace\">random action\n",
       "</pre>\n"
      ],
      "text/plain": [
       "random action\n"
      ]
     },
     "metadata": {},
     "output_type": "display_data"
    },
    {
     "data": {
      "text/html": [
       "<pre style=\"white-space:pre;overflow-x:auto;line-height:normal;font-family:Menlo,'DejaVu Sans Mono',consolas,'Courier New',monospace\">random action\n",
       "</pre>\n"
      ],
      "text/plain": [
       "random action\n"
      ]
     },
     "metadata": {},
     "output_type": "display_data"
    },
    {
     "data": {
      "text/html": [
       "<pre style=\"white-space:pre;overflow-x:auto;line-height:normal;font-family:Menlo,'DejaVu Sans Mono',consolas,'Courier New',monospace\">random action\n",
       "</pre>\n"
      ],
      "text/plain": [
       "random action\n"
      ]
     },
     "metadata": {},
     "output_type": "display_data"
    },
    {
     "data": {
      "text/html": [
       "<pre style=\"white-space:pre;overflow-x:auto;line-height:normal;font-family:Menlo,'DejaVu Sans Mono',consolas,'Courier New',monospace\">random action\n",
       "</pre>\n"
      ],
      "text/plain": [
       "random action\n"
      ]
     },
     "metadata": {},
     "output_type": "display_data"
    },
    {
     "data": {
      "text/html": [
       "<pre style=\"white-space:pre;overflow-x:auto;line-height:normal;font-family:Menlo,'DejaVu Sans Mono',consolas,'Courier New',monospace\">random action\n",
       "</pre>\n"
      ],
      "text/plain": [
       "random action\n"
      ]
     },
     "metadata": {},
     "output_type": "display_data"
    },
    {
     "data": {
      "text/html": [
       "<pre style=\"white-space:pre;overflow-x:auto;line-height:normal;font-family:Menlo,'DejaVu Sans Mono',consolas,'Courier New',monospace\">random action\n",
       "</pre>\n"
      ],
      "text/plain": [
       "random action\n"
      ]
     },
     "metadata": {},
     "output_type": "display_data"
    },
    {
     "data": {
      "text/html": [
       "<pre style=\"white-space:pre;overflow-x:auto;line-height:normal;font-family:Menlo,'DejaVu Sans Mono',consolas,'Courier New',monospace\">random action\n",
       "</pre>\n"
      ],
      "text/plain": [
       "random action\n"
      ]
     },
     "metadata": {},
     "output_type": "display_data"
    },
    {
     "data": {
      "text/html": [
       "<pre style=\"white-space:pre;overflow-x:auto;line-height:normal;font-family:Menlo,'DejaVu Sans Mono',consolas,'Courier New',monospace\">random action\n",
       "</pre>\n"
      ],
      "text/plain": [
       "random action\n"
      ]
     },
     "metadata": {},
     "output_type": "display_data"
    },
    {
     "data": {
      "text/html": [
       "<pre style=\"white-space:pre;overflow-x:auto;line-height:normal;font-family:Menlo,'DejaVu Sans Mono',consolas,'Courier New',monospace\">random action\n",
       "</pre>\n"
      ],
      "text/plain": [
       "random action\n"
      ]
     },
     "metadata": {},
     "output_type": "display_data"
    },
    {
     "data": {
      "text/html": [
       "<pre style=\"white-space:pre;overflow-x:auto;line-height:normal;font-family:Menlo,'DejaVu Sans Mono',consolas,'Courier New',monospace\">random action\n",
       "</pre>\n"
      ],
      "text/plain": [
       "random action\n"
      ]
     },
     "metadata": {},
     "output_type": "display_data"
    },
    {
     "data": {
      "text/html": [
       "<pre style=\"white-space:pre;overflow-x:auto;line-height:normal;font-family:Menlo,'DejaVu Sans Mono',consolas,'Courier New',monospace\">random action\n",
       "</pre>\n"
      ],
      "text/plain": [
       "random action\n"
      ]
     },
     "metadata": {},
     "output_type": "display_data"
    },
    {
     "data": {
      "text/html": [
       "<pre style=\"white-space:pre;overflow-x:auto;line-height:normal;font-family:Menlo,'DejaVu Sans Mono',consolas,'Courier New',monospace\">random action\n",
       "</pre>\n"
      ],
      "text/plain": [
       "random action\n"
      ]
     },
     "metadata": {},
     "output_type": "display_data"
    },
    {
     "data": {
      "text/html": [
       "<pre style=\"white-space:pre;overflow-x:auto;line-height:normal;font-family:Menlo,'DejaVu Sans Mono',consolas,'Courier New',monospace\">random action\n",
       "</pre>\n"
      ],
      "text/plain": [
       "random action\n"
      ]
     },
     "metadata": {},
     "output_type": "display_data"
    },
    {
     "data": {
      "text/html": [
       "<pre style=\"white-space:pre;overflow-x:auto;line-height:normal;font-family:Menlo,'DejaVu Sans Mono',consolas,'Courier New',monospace\">random action\n",
       "</pre>\n"
      ],
      "text/plain": [
       "random action\n"
      ]
     },
     "metadata": {},
     "output_type": "display_data"
    },
    {
     "data": {
      "text/html": [
       "<pre style=\"white-space:pre;overflow-x:auto;line-height:normal;font-family:Menlo,'DejaVu Sans Mono',consolas,'Courier New',monospace\">random action\n",
       "</pre>\n"
      ],
      "text/plain": [
       "random action\n"
      ]
     },
     "metadata": {},
     "output_type": "display_data"
    },
    {
     "data": {
      "text/html": [
       "<pre style=\"white-space:pre;overflow-x:auto;line-height:normal;font-family:Menlo,'DejaVu Sans Mono',consolas,'Courier New',monospace\">random action\n",
       "</pre>\n"
      ],
      "text/plain": [
       "random action\n"
      ]
     },
     "metadata": {},
     "output_type": "display_data"
    },
    {
     "data": {
      "text/html": [
       "<pre style=\"white-space:pre;overflow-x:auto;line-height:normal;font-family:Menlo,'DejaVu Sans Mono',consolas,'Courier New',monospace\">random action\n",
       "</pre>\n"
      ],
      "text/plain": [
       "random action\n"
      ]
     },
     "metadata": {},
     "output_type": "display_data"
    },
    {
     "data": {
      "text/html": [
       "<pre style=\"white-space:pre;overflow-x:auto;line-height:normal;font-family:Menlo,'DejaVu Sans Mono',consolas,'Courier New',monospace\">random action\n",
       "</pre>\n"
      ],
      "text/plain": [
       "random action\n"
      ]
     },
     "metadata": {},
     "output_type": "display_data"
    },
    {
     "data": {
      "text/html": [
       "<pre style=\"white-space:pre;overflow-x:auto;line-height:normal;font-family:Menlo,'DejaVu Sans Mono',consolas,'Courier New',monospace\">random action\n",
       "</pre>\n"
      ],
      "text/plain": [
       "random action\n"
      ]
     },
     "metadata": {},
     "output_type": "display_data"
    },
    {
     "data": {
      "text/html": [
       "<pre style=\"white-space:pre;overflow-x:auto;line-height:normal;font-family:Menlo,'DejaVu Sans Mono',consolas,'Courier New',monospace\">random action\n",
       "</pre>\n"
      ],
      "text/plain": [
       "random action\n"
      ]
     },
     "metadata": {},
     "output_type": "display_data"
    },
    {
     "data": {
      "text/html": [
       "<pre style=\"white-space:pre;overflow-x:auto;line-height:normal;font-family:Menlo,'DejaVu Sans Mono',consolas,'Courier New',monospace\">random action\n",
       "</pre>\n"
      ],
      "text/plain": [
       "random action\n"
      ]
     },
     "metadata": {},
     "output_type": "display_data"
    },
    {
     "data": {
      "text/html": [
       "<pre style=\"white-space:pre;overflow-x:auto;line-height:normal;font-family:Menlo,'DejaVu Sans Mono',consolas,'Courier New',monospace\">random action\n",
       "</pre>\n"
      ],
      "text/plain": [
       "random action\n"
      ]
     },
     "metadata": {},
     "output_type": "display_data"
    },
    {
     "data": {
      "text/html": [
       "<pre style=\"white-space:pre;overflow-x:auto;line-height:normal;font-family:Menlo,'DejaVu Sans Mono',consolas,'Courier New',monospace\">random action\n",
       "</pre>\n"
      ],
      "text/plain": [
       "random action\n"
      ]
     },
     "metadata": {},
     "output_type": "display_data"
    },
    {
     "data": {
      "text/html": [
       "<pre style=\"white-space:pre;overflow-x:auto;line-height:normal;font-family:Menlo,'DejaVu Sans Mono',consolas,'Courier New',monospace\">random action\n",
       "</pre>\n"
      ],
      "text/plain": [
       "random action\n"
      ]
     },
     "metadata": {},
     "output_type": "display_data"
    },
    {
     "data": {
      "text/html": [
       "<pre style=\"white-space:pre;overflow-x:auto;line-height:normal;font-family:Menlo,'DejaVu Sans Mono',consolas,'Courier New',monospace\">random action\n",
       "</pre>\n"
      ],
      "text/plain": [
       "random action\n"
      ]
     },
     "metadata": {},
     "output_type": "display_data"
    },
    {
     "data": {
      "text/html": [
       "<pre style=\"white-space:pre;overflow-x:auto;line-height:normal;font-family:Menlo,'DejaVu Sans Mono',consolas,'Courier New',monospace\">random action\n",
       "</pre>\n"
      ],
      "text/plain": [
       "random action\n"
      ]
     },
     "metadata": {},
     "output_type": "display_data"
    },
    {
     "data": {
      "text/html": [
       "<pre style=\"white-space:pre;overflow-x:auto;line-height:normal;font-family:Menlo,'DejaVu Sans Mono',consolas,'Courier New',monospace\">random action\n",
       "</pre>\n"
      ],
      "text/plain": [
       "random action\n"
      ]
     },
     "metadata": {},
     "output_type": "display_data"
    },
    {
     "data": {
      "text/html": [
       "<pre style=\"white-space:pre;overflow-x:auto;line-height:normal;font-family:Menlo,'DejaVu Sans Mono',consolas,'Courier New',monospace\">random action\n",
       "</pre>\n"
      ],
      "text/plain": [
       "random action\n"
      ]
     },
     "metadata": {},
     "output_type": "display_data"
    },
    {
     "data": {
      "text/html": [
       "<pre style=\"white-space:pre;overflow-x:auto;line-height:normal;font-family:Menlo,'DejaVu Sans Mono',consolas,'Courier New',monospace\">random action\n",
       "</pre>\n"
      ],
      "text/plain": [
       "random action\n"
      ]
     },
     "metadata": {},
     "output_type": "display_data"
    },
    {
     "data": {
      "text/html": [
       "<pre style=\"white-space:pre;overflow-x:auto;line-height:normal;font-family:Menlo,'DejaVu Sans Mono',consolas,'Courier New',monospace\">random action\n",
       "</pre>\n"
      ],
      "text/plain": [
       "random action\n"
      ]
     },
     "metadata": {},
     "output_type": "display_data"
    },
    {
     "data": {
      "text/html": [
       "<pre style=\"white-space:pre;overflow-x:auto;line-height:normal;font-family:Menlo,'DejaVu Sans Mono',consolas,'Courier New',monospace\">random action\n",
       "</pre>\n"
      ],
      "text/plain": [
       "random action\n"
      ]
     },
     "metadata": {},
     "output_type": "display_data"
    },
    {
     "data": {
      "text/html": [
       "<pre style=\"white-space:pre;overflow-x:auto;line-height:normal;font-family:Menlo,'DejaVu Sans Mono',consolas,'Courier New',monospace\">random action\n",
       "</pre>\n"
      ],
      "text/plain": [
       "random action\n"
      ]
     },
     "metadata": {},
     "output_type": "display_data"
    },
    {
     "data": {
      "text/html": [
       "<pre style=\"white-space:pre;overflow-x:auto;line-height:normal;font-family:Menlo,'DejaVu Sans Mono',consolas,'Courier New',monospace\">random action\n",
       "</pre>\n"
      ],
      "text/plain": [
       "random action\n"
      ]
     },
     "metadata": {},
     "output_type": "display_data"
    },
    {
     "data": {
      "text/html": [
       "<pre style=\"white-space:pre;overflow-x:auto;line-height:normal;font-family:Menlo,'DejaVu Sans Mono',consolas,'Courier New',monospace\">random action\n",
       "</pre>\n"
      ],
      "text/plain": [
       "random action\n"
      ]
     },
     "metadata": {},
     "output_type": "display_data"
    },
    {
     "data": {
      "text/html": [
       "<pre style=\"white-space:pre;overflow-x:auto;line-height:normal;font-family:Menlo,'DejaVu Sans Mono',consolas,'Courier New',monospace\">random action\n",
       "</pre>\n"
      ],
      "text/plain": [
       "random action\n"
      ]
     },
     "metadata": {},
     "output_type": "display_data"
    },
    {
     "data": {
      "text/html": [
       "<pre style=\"white-space:pre;overflow-x:auto;line-height:normal;font-family:Menlo,'DejaVu Sans Mono',consolas,'Courier New',monospace\">random action\n",
       "</pre>\n"
      ],
      "text/plain": [
       "random action\n"
      ]
     },
     "metadata": {},
     "output_type": "display_data"
    },
    {
     "data": {
      "text/html": [
       "<pre style=\"white-space:pre;overflow-x:auto;line-height:normal;font-family:Menlo,'DejaVu Sans Mono',consolas,'Courier New',monospace\">random action\n",
       "</pre>\n"
      ],
      "text/plain": [
       "random action\n"
      ]
     },
     "metadata": {},
     "output_type": "display_data"
    },
    {
     "data": {
      "text/html": [
       "<pre style=\"white-space:pre;overflow-x:auto;line-height:normal;font-family:Menlo,'DejaVu Sans Mono',consolas,'Courier New',monospace\">random action\n",
       "</pre>\n"
      ],
      "text/plain": [
       "random action\n"
      ]
     },
     "metadata": {},
     "output_type": "display_data"
    },
    {
     "data": {
      "text/html": [
       "<pre style=\"white-space:pre;overflow-x:auto;line-height:normal;font-family:Menlo,'DejaVu Sans Mono',consolas,'Courier New',monospace\">random action\n",
       "</pre>\n"
      ],
      "text/plain": [
       "random action\n"
      ]
     },
     "metadata": {},
     "output_type": "display_data"
    },
    {
     "data": {
      "text/html": [
       "<pre style=\"white-space:pre;overflow-x:auto;line-height:normal;font-family:Menlo,'DejaVu Sans Mono',consolas,'Courier New',monospace\">random action\n",
       "</pre>\n"
      ],
      "text/plain": [
       "random action\n"
      ]
     },
     "metadata": {},
     "output_type": "display_data"
    },
    {
     "data": {
      "text/html": [
       "<pre style=\"white-space:pre;overflow-x:auto;line-height:normal;font-family:Menlo,'DejaVu Sans Mono',consolas,'Courier New',monospace\">random action\n",
       "</pre>\n"
      ],
      "text/plain": [
       "random action\n"
      ]
     },
     "metadata": {},
     "output_type": "display_data"
    },
    {
     "data": {
      "text/html": [
       "<pre style=\"white-space:pre;overflow-x:auto;line-height:normal;font-family:Menlo,'DejaVu Sans Mono',consolas,'Courier New',monospace\">random action\n",
       "</pre>\n"
      ],
      "text/plain": [
       "random action\n"
      ]
     },
     "metadata": {},
     "output_type": "display_data"
    },
    {
     "data": {
      "text/html": [
       "<pre style=\"white-space:pre;overflow-x:auto;line-height:normal;font-family:Menlo,'DejaVu Sans Mono',consolas,'Courier New',monospace\">random action\n",
       "</pre>\n"
      ],
      "text/plain": [
       "random action\n"
      ]
     },
     "metadata": {},
     "output_type": "display_data"
    },
    {
     "data": {
      "text/html": [
       "<pre style=\"white-space:pre;overflow-x:auto;line-height:normal;font-family:Menlo,'DejaVu Sans Mono',consolas,'Courier New',monospace\">random action\n",
       "</pre>\n"
      ],
      "text/plain": [
       "random action\n"
      ]
     },
     "metadata": {},
     "output_type": "display_data"
    },
    {
     "data": {
      "text/html": [
       "<pre style=\"white-space:pre;overflow-x:auto;line-height:normal;font-family:Menlo,'DejaVu Sans Mono',consolas,'Courier New',monospace\">random action\n",
       "</pre>\n"
      ],
      "text/plain": [
       "random action\n"
      ]
     },
     "metadata": {},
     "output_type": "display_data"
    },
    {
     "data": {
      "text/html": [
       "<pre style=\"white-space:pre;overflow-x:auto;line-height:normal;font-family:Menlo,'DejaVu Sans Mono',consolas,'Courier New',monospace\">random action\n",
       "</pre>\n"
      ],
      "text/plain": [
       "random action\n"
      ]
     },
     "metadata": {},
     "output_type": "display_data"
    },
    {
     "data": {
      "text/html": [
       "<pre style=\"white-space:pre;overflow-x:auto;line-height:normal;font-family:Menlo,'DejaVu Sans Mono',consolas,'Courier New',monospace\">random action\n",
       "</pre>\n"
      ],
      "text/plain": [
       "random action\n"
      ]
     },
     "metadata": {},
     "output_type": "display_data"
    },
    {
     "data": {
      "text/html": [
       "<pre style=\"white-space:pre;overflow-x:auto;line-height:normal;font-family:Menlo,'DejaVu Sans Mono',consolas,'Courier New',monospace\">random action\n",
       "</pre>\n"
      ],
      "text/plain": [
       "random action\n"
      ]
     },
     "metadata": {},
     "output_type": "display_data"
    },
    {
     "data": {
      "text/html": [
       "<pre style=\"white-space:pre;overflow-x:auto;line-height:normal;font-family:Menlo,'DejaVu Sans Mono',consolas,'Courier New',monospace\"></pre>\n"
      ],
      "text/plain": []
     },
     "metadata": {},
     "output_type": "display_data"
    },
    {
     "data": {
      "text/html": [
       "<pre style=\"white-space:pre;overflow-x:auto;line-height:normal;font-family:Menlo,'DejaVu Sans Mono',consolas,'Courier New',monospace\">\n",
       "</pre>\n"
      ],
      "text/plain": [
       "\n"
      ]
     },
     "metadata": {},
     "output_type": "display_data"
    },
    {
     "data": {
      "text/html": [
       "<div>\n",
       "<style scoped>\n",
       "    .dataframe tbody tr th:only-of-type {\n",
       "        vertical-align: middle;\n",
       "    }\n",
       "\n",
       "    .dataframe tbody tr th {\n",
       "        vertical-align: top;\n",
       "    }\n",
       "\n",
       "    .dataframe thead th {\n",
       "        text-align: right;\n",
       "    }\n",
       "</style>\n",
       "<table border=\"1\" class=\"dataframe\">\n",
       "  <thead>\n",
       "    <tr style=\"text-align: right;\">\n",
       "      <th>name</th>\n",
       "      <th>Building_1</th>\n",
       "      <th>Building_2</th>\n",
       "      <th>District</th>\n",
       "    </tr>\n",
       "    <tr>\n",
       "      <th>cost_function</th>\n",
       "      <th></th>\n",
       "      <th></th>\n",
       "      <th></th>\n",
       "    </tr>\n",
       "  </thead>\n",
       "  <tbody>\n",
       "    <tr>\n",
       "      <th>annual_normalized_unserved_energy_total</th>\n",
       "      <td>0.000000</td>\n",
       "      <td>0.000000</td>\n",
       "      <td>0.000000</td>\n",
       "    </tr>\n",
       "    <tr>\n",
       "      <th>annual_peak_average</th>\n",
       "      <td>NaN</td>\n",
       "      <td>NaN</td>\n",
       "      <td>1.922064</td>\n",
       "    </tr>\n",
       "    <tr>\n",
       "      <th>carbon_emissions_total</th>\n",
       "      <td>2.372058</td>\n",
       "      <td>4.705404</td>\n",
       "      <td>3.538731</td>\n",
       "    </tr>\n",
       "    <tr>\n",
       "      <th>cost_total</th>\n",
       "      <td>2.337100</td>\n",
       "      <td>4.526138</td>\n",
       "      <td>3.431619</td>\n",
       "    </tr>\n",
       "    <tr>\n",
       "      <th>daily_one_minus_load_factor_average</th>\n",
       "      <td>NaN</td>\n",
       "      <td>NaN</td>\n",
       "      <td>0.846158</td>\n",
       "    </tr>\n",
       "    <tr>\n",
       "      <th>daily_peak_average</th>\n",
       "      <td>NaN</td>\n",
       "      <td>NaN</td>\n",
       "      <td>1.939502</td>\n",
       "    </tr>\n",
       "    <tr>\n",
       "      <th>discomfort_delta_average</th>\n",
       "      <td>-7.654192</td>\n",
       "      <td>-6.193148</td>\n",
       "      <td>-6.923670</td>\n",
       "    </tr>\n",
       "    <tr>\n",
       "      <th>discomfort_delta_maximum</th>\n",
       "      <td>0.118439</td>\n",
       "      <td>0.000000</td>\n",
       "      <td>0.059219</td>\n",
       "    </tr>\n",
       "    <tr>\n",
       "      <th>discomfort_delta_minimum</th>\n",
       "      <td>-15.350341</td>\n",
       "      <td>-14.697454</td>\n",
       "      <td>-15.023898</td>\n",
       "    </tr>\n",
       "    <tr>\n",
       "      <th>discomfort_proportion</th>\n",
       "      <td>0.872727</td>\n",
       "      <td>0.949580</td>\n",
       "      <td>0.911154</td>\n",
       "    </tr>\n",
       "    <tr>\n",
       "      <th>discomfort_too_cold_proportion</th>\n",
       "      <td>0.872727</td>\n",
       "      <td>0.949580</td>\n",
       "      <td>0.911154</td>\n",
       "    </tr>\n",
       "    <tr>\n",
       "      <th>discomfort_too_hot_proportion</th>\n",
       "      <td>0.000000</td>\n",
       "      <td>0.000000</td>\n",
       "      <td>0.000000</td>\n",
       "    </tr>\n",
       "    <tr>\n",
       "      <th>electricity_consumption_total</th>\n",
       "      <td>2.338381</td>\n",
       "      <td>4.733170</td>\n",
       "      <td>3.535776</td>\n",
       "    </tr>\n",
       "    <tr>\n",
       "      <th>monthly_one_minus_load_factor_average</th>\n",
       "      <td>NaN</td>\n",
       "      <td>NaN</td>\n",
       "      <td>0.907405</td>\n",
       "    </tr>\n",
       "    <tr>\n",
       "      <th>ramping_average</th>\n",
       "      <td>NaN</td>\n",
       "      <td>NaN</td>\n",
       "      <td>3.080700</td>\n",
       "    </tr>\n",
       "    <tr>\n",
       "      <th>zero_net_energy</th>\n",
       "      <td>2.402889</td>\n",
       "      <td>4.306686</td>\n",
       "      <td>3.354787</td>\n",
       "    </tr>\n",
       "  </tbody>\n",
       "</table>\n",
       "</div>"
      ],
      "text/plain": [
       "name                                     Building_1  Building_2   District\n",
       "cost_function                                                             \n",
       "annual_normalized_unserved_energy_total    0.000000    0.000000   0.000000\n",
       "annual_peak_average                             NaN         NaN   1.922064\n",
       "carbon_emissions_total                     2.372058    4.705404   3.538731\n",
       "cost_total                                 2.337100    4.526138   3.431619\n",
       "daily_one_minus_load_factor_average             NaN         NaN   0.846158\n",
       "daily_peak_average                              NaN         NaN   1.939502\n",
       "discomfort_delta_average                  -7.654192   -6.193148  -6.923670\n",
       "discomfort_delta_maximum                   0.118439    0.000000   0.059219\n",
       "discomfort_delta_minimum                 -15.350341  -14.697454 -15.023898\n",
       "discomfort_proportion                      0.872727    0.949580   0.911154\n",
       "discomfort_too_cold_proportion             0.872727    0.949580   0.911154\n",
       "discomfort_too_hot_proportion              0.000000    0.000000   0.000000\n",
       "electricity_consumption_total              2.338381    4.733170   3.535776\n",
       "monthly_one_minus_load_factor_average           NaN         NaN   0.907405\n",
       "ramping_average                                 NaN         NaN   3.080700\n",
       "zero_net_energy                            2.402889    4.306686   3.354787"
      ]
     },
     "metadata": {},
     "output_type": "display_data"
    }
   ],
   "source": [
    "from stable_baselines3.dqn import DQN\n",
    "\n",
    "%reload_ext autoreload\n",
    "import citylearn\n",
    "import importlib\n",
    "importlib.reload(citylearn)\n",
    "\n",
    "from citylearn.citylearn import CityLearnEnv\n",
    "from citylearn.wrappers import NormalizedObservationWrapper, StableBaselines3Wrapper\n",
    "import sys\n",
    "from pathlib import Path\n",
    "sys.path.append(str(Path.cwd().parent))\n",
    "from helpers.custom_callback import CustomCallback\n",
    "from wrappers.DQNActionWrapper import DQNActionWrapper\n",
    "\n",
    "dqn_env = CityLearnEnv(schema, central_agent=True)\n",
    "dqn_env = NormalizedObservationWrapper(dqn_env)\n",
    "dqn_env = StableBaselines3Wrapper(dqn_env)\n",
    "\n",
    "action_bins = {'electrical_storage': 3, 'dhw_storage': 3, 'cooling_device': 3}\n",
    "action_bin_sizes = []\n",
    "for b in dqn_env.buildings:\n",
    "    action_bin_sizes.append(action_bins)\n",
    "\n",
    "dqn_env = DQNActionWrapper(dqn_env, action_bin_sizes)\n",
    "\n",
    "total_timesteps = number_of_episodes * (dqn_env.time_steps - 1)\n",
    "\n",
    "dqn_model = DQN(\"MlpPolicy\", dqn_env, verbose=1, seed=random_seed, learning_starts=total_timesteps/5)\n",
    "\n",
    "dqn_callback = CustomCallback(env=dqn_env, total_timesteps=total_timesteps)\n",
    "dqn_model.learn(total_timesteps=total_timesteps, progress_bar=True, callback=dqn_callback)\n",
    "\n",
    "observations = dqn_env.reset()\n",
    "\n",
    "while not dqn_env.done:\n",
    "    actions, _ = dqn_model.predict(observations, deterministic=True)\n",
    "    observations, _, _, _ = dqn_env.step(actions) \n",
    "\n",
    "# print cost functions at the end of episode\n",
    "kpis = dqn_env.evaluate()\n",
    "kpis = kpis.pivot(index='cost_function', columns='name', values='value')\n",
    "kpis = kpis.dropna(how='all')\n",
    "display(kpis)"
   ]
  },
  {
   "cell_type": "code",
   "execution_count": 5,
   "metadata": {},
   "outputs": [
    {
     "name": "stdout",
     "output_type": "stream",
     "text": [
      "Total number of iterations: 81\n",
      "1\n",
      "2\n",
      "3\n",
      "4\n",
      "5\n",
      "6\n",
      "7\n",
      "8\n",
      "9\n",
      "10\n",
      "11\n",
      "12\n",
      "13\n",
      "14\n",
      "15\n",
      "16\n",
      "17\n",
      "18\n",
      "19\n",
      "20\n",
      "21\n",
      "22\n",
      "23\n",
      "24\n",
      "25\n",
      "26\n",
      "27\n",
      "28\n",
      "29\n",
      "30\n",
      "31\n",
      "32\n",
      "33\n",
      "34\n",
      "35\n",
      "36\n",
      "37\n",
      "38\n",
      "39\n",
      "40\n",
      "41\n"
     ]
    },
    {
     "ename": "MemoryError",
     "evalue": "Unable to allocate 191. MiB for an array with shape (1000000, 1, 50) and data type float32",
     "output_type": "error",
     "traceback": [
      "\u001b[1;31m---------------------------------------------------------------------------\u001b[0m",
      "\u001b[1;31mMemoryError\u001b[0m                               Traceback (most recent call last)",
      "Cell \u001b[1;32mIn[5], line 41\u001b[0m\n\u001b[0;32m     39\u001b[0m kwargs \u001b[38;5;241m=\u001b[39m {param_name: param_value \u001b[38;5;28;01mfor\u001b[39;00m param_name, param_value \u001b[38;5;129;01min\u001b[39;00m \u001b[38;5;28mzip\u001b[39m(hyperparameters\u001b[38;5;241m.\u001b[39mkeys(), param_values)}\n\u001b[0;32m     40\u001b[0m \u001b[38;5;66;03m# Initialize the SAC model with current hyperparameters\u001b[39;00m\n\u001b[1;32m---> 41\u001b[0m dqn_model \u001b[38;5;241m=\u001b[39m DQN(\u001b[38;5;124m\"\u001b[39m\u001b[38;5;124mMlpPolicy\u001b[39m\u001b[38;5;124m\"\u001b[39m, dqn_env, seed\u001b[38;5;241m=\u001b[39mrandom_seed, learning_starts\u001b[38;5;241m=\u001b[39m\u001b[38;5;241m0\u001b[39m, \u001b[38;5;241m*\u001b[39m\u001b[38;5;241m*\u001b[39mkwargs)\n\u001b[0;32m     43\u001b[0m \u001b[38;5;66;03m# Calculate total timesteps\u001b[39;00m\n\u001b[0;32m     44\u001b[0m total_timesteps \u001b[38;5;241m=\u001b[39m number_of_episodes \u001b[38;5;241m*\u001b[39m (dqn_env\u001b[38;5;241m.\u001b[39mtime_steps \u001b[38;5;241m-\u001b[39m \u001b[38;5;241m1\u001b[39m)\n",
      "File \u001b[1;32m~\\AppData\\Local\\Packages\\PythonSoftwareFoundation.Python.3.10_qbz5n2kfra8p0\\LocalCache\\local-packages\\Python310\\site-packages\\stable_baselines3\\dqn\\dqn.py:140\u001b[0m, in \u001b[0;36mDQN.__init__\u001b[1;34m(self, policy, env, learning_rate, buffer_size, learning_starts, batch_size, tau, gamma, train_freq, gradient_steps, replay_buffer_class, replay_buffer_kwargs, optimize_memory_usage, target_update_interval, exploration_fraction, exploration_initial_eps, exploration_final_eps, max_grad_norm, stats_window_size, tensorboard_log, policy_kwargs, verbose, seed, device, _init_setup_model)\u001b[0m\n\u001b[0;32m    137\u001b[0m \u001b[38;5;28mself\u001b[39m\u001b[38;5;241m.\u001b[39mq_net_target: th\u001b[38;5;241m.\u001b[39mnn\u001b[38;5;241m.\u001b[39mModule\n\u001b[0;32m    139\u001b[0m \u001b[38;5;28;01mif\u001b[39;00m _init_setup_model:\n\u001b[1;32m--> 140\u001b[0m     \u001b[38;5;28;43mself\u001b[39;49m\u001b[38;5;241;43m.\u001b[39;49m\u001b[43m_setup_model\u001b[49m\u001b[43m(\u001b[49m\u001b[43m)\u001b[49m\n",
      "File \u001b[1;32m~\\AppData\\Local\\Packages\\PythonSoftwareFoundation.Python.3.10_qbz5n2kfra8p0\\LocalCache\\local-packages\\Python310\\site-packages\\stable_baselines3\\dqn\\dqn.py:143\u001b[0m, in \u001b[0;36mDQN._setup_model\u001b[1;34m(self)\u001b[0m\n\u001b[0;32m    142\u001b[0m \u001b[38;5;28;01mdef\u001b[39;00m \u001b[38;5;21m_setup_model\u001b[39m(\u001b[38;5;28mself\u001b[39m) \u001b[38;5;241m-\u001b[39m\u001b[38;5;241m>\u001b[39m \u001b[38;5;28;01mNone\u001b[39;00m:\n\u001b[1;32m--> 143\u001b[0m     \u001b[38;5;28;43msuper\u001b[39;49m\u001b[43m(\u001b[49m\u001b[43m)\u001b[49m\u001b[38;5;241;43m.\u001b[39;49m\u001b[43m_setup_model\u001b[49m\u001b[43m(\u001b[49m\u001b[43m)\u001b[49m\n\u001b[0;32m    144\u001b[0m     \u001b[38;5;28mself\u001b[39m\u001b[38;5;241m.\u001b[39m_create_aliases()\n\u001b[0;32m    145\u001b[0m     \u001b[38;5;66;03m# Copy running stats, see GH issue #996\u001b[39;00m\n",
      "File \u001b[1;32m~\\AppData\\Local\\Packages\\PythonSoftwareFoundation.Python.3.10_qbz5n2kfra8p0\\LocalCache\\local-packages\\Python310\\site-packages\\stable_baselines3\\common\\off_policy_algorithm.py:188\u001b[0m, in \u001b[0;36mOffPolicyAlgorithm._setup_model\u001b[1;34m(self)\u001b[0m\n\u001b[0;32m    186\u001b[0m         \u001b[38;5;28;01massert\u001b[39;00m \u001b[38;5;28mself\u001b[39m\u001b[38;5;241m.\u001b[39menv \u001b[38;5;129;01mis\u001b[39;00m \u001b[38;5;129;01mnot\u001b[39;00m \u001b[38;5;28;01mNone\u001b[39;00m, \u001b[38;5;124m\"\u001b[39m\u001b[38;5;124mYou must pass an environment when using `HerReplayBuffer`\u001b[39m\u001b[38;5;124m\"\u001b[39m\n\u001b[0;32m    187\u001b[0m         replay_buffer_kwargs[\u001b[38;5;124m\"\u001b[39m\u001b[38;5;124menv\u001b[39m\u001b[38;5;124m\"\u001b[39m] \u001b[38;5;241m=\u001b[39m \u001b[38;5;28mself\u001b[39m\u001b[38;5;241m.\u001b[39menv\n\u001b[1;32m--> 188\u001b[0m     \u001b[38;5;28mself\u001b[39m\u001b[38;5;241m.\u001b[39mreplay_buffer \u001b[38;5;241m=\u001b[39m \u001b[38;5;28mself\u001b[39m\u001b[38;5;241m.\u001b[39mreplay_buffer_class(\n\u001b[0;32m    189\u001b[0m         \u001b[38;5;28mself\u001b[39m\u001b[38;5;241m.\u001b[39mbuffer_size,\n\u001b[0;32m    190\u001b[0m         \u001b[38;5;28mself\u001b[39m\u001b[38;5;241m.\u001b[39mobservation_space,\n\u001b[0;32m    191\u001b[0m         \u001b[38;5;28mself\u001b[39m\u001b[38;5;241m.\u001b[39maction_space,\n\u001b[0;32m    192\u001b[0m         device\u001b[38;5;241m=\u001b[39m\u001b[38;5;28mself\u001b[39m\u001b[38;5;241m.\u001b[39mdevice,\n\u001b[0;32m    193\u001b[0m         n_envs\u001b[38;5;241m=\u001b[39m\u001b[38;5;28mself\u001b[39m\u001b[38;5;241m.\u001b[39mn_envs,\n\u001b[0;32m    194\u001b[0m         optimize_memory_usage\u001b[38;5;241m=\u001b[39m\u001b[38;5;28mself\u001b[39m\u001b[38;5;241m.\u001b[39moptimize_memory_usage,\n\u001b[0;32m    195\u001b[0m         \u001b[38;5;241m*\u001b[39m\u001b[38;5;241m*\u001b[39mreplay_buffer_kwargs,  \u001b[38;5;66;03m# pytype:disable=wrong-keyword-args\u001b[39;00m\n\u001b[0;32m    196\u001b[0m     )\n\u001b[0;32m    198\u001b[0m \u001b[38;5;28mself\u001b[39m\u001b[38;5;241m.\u001b[39mpolicy \u001b[38;5;241m=\u001b[39m \u001b[38;5;28mself\u001b[39m\u001b[38;5;241m.\u001b[39mpolicy_class(  \u001b[38;5;66;03m# pytype:disable=not-instantiable\u001b[39;00m\n\u001b[0;32m    199\u001b[0m     \u001b[38;5;28mself\u001b[39m\u001b[38;5;241m.\u001b[39mobservation_space,\n\u001b[0;32m    200\u001b[0m     \u001b[38;5;28mself\u001b[39m\u001b[38;5;241m.\u001b[39maction_space,\n\u001b[0;32m    201\u001b[0m     \u001b[38;5;28mself\u001b[39m\u001b[38;5;241m.\u001b[39mlr_schedule,\n\u001b[0;32m    202\u001b[0m     \u001b[38;5;241m*\u001b[39m\u001b[38;5;241m*\u001b[39m\u001b[38;5;28mself\u001b[39m\u001b[38;5;241m.\u001b[39mpolicy_kwargs,  \u001b[38;5;66;03m# pytype:disable=not-instantiable\u001b[39;00m\n\u001b[0;32m    203\u001b[0m )\n\u001b[0;32m    204\u001b[0m \u001b[38;5;28mself\u001b[39m\u001b[38;5;241m.\u001b[39mpolicy \u001b[38;5;241m=\u001b[39m \u001b[38;5;28mself\u001b[39m\u001b[38;5;241m.\u001b[39mpolicy\u001b[38;5;241m.\u001b[39mto(\u001b[38;5;28mself\u001b[39m\u001b[38;5;241m.\u001b[39mdevice)\n",
      "File \u001b[1;32m~\\AppData\\Local\\Packages\\PythonSoftwareFoundation.Python.3.10_qbz5n2kfra8p0\\LocalCache\\local-packages\\Python310\\site-packages\\stable_baselines3\\common\\buffers.py:202\u001b[0m, in \u001b[0;36mReplayBuffer.__init__\u001b[1;34m(self, buffer_size, observation_space, action_space, device, n_envs, optimize_memory_usage, handle_timeout_termination)\u001b[0m\n\u001b[0;32m    196\u001b[0m     \u001b[38;5;28;01mraise\u001b[39;00m \u001b[38;5;167;01mValueError\u001b[39;00m(\n\u001b[0;32m    197\u001b[0m         \u001b[38;5;124m\"\u001b[39m\u001b[38;5;124mReplayBuffer does not support optimize_memory_usage = True \u001b[39m\u001b[38;5;124m\"\u001b[39m\n\u001b[0;32m    198\u001b[0m         \u001b[38;5;124m\"\u001b[39m\u001b[38;5;124mand handle_timeout_termination = True simultaneously.\u001b[39m\u001b[38;5;124m\"\u001b[39m\n\u001b[0;32m    199\u001b[0m     )\n\u001b[0;32m    200\u001b[0m \u001b[38;5;28mself\u001b[39m\u001b[38;5;241m.\u001b[39moptimize_memory_usage \u001b[38;5;241m=\u001b[39m optimize_memory_usage\n\u001b[1;32m--> 202\u001b[0m \u001b[38;5;28mself\u001b[39m\u001b[38;5;241m.\u001b[39mobservations \u001b[38;5;241m=\u001b[39m \u001b[43mnp\u001b[49m\u001b[38;5;241;43m.\u001b[39;49m\u001b[43mzeros\u001b[49m\u001b[43m(\u001b[49m\u001b[43m(\u001b[49m\u001b[38;5;28;43mself\u001b[39;49m\u001b[38;5;241;43m.\u001b[39;49m\u001b[43mbuffer_size\u001b[49m\u001b[43m,\u001b[49m\u001b[43m \u001b[49m\u001b[38;5;28;43mself\u001b[39;49m\u001b[38;5;241;43m.\u001b[39;49m\u001b[43mn_envs\u001b[49m\u001b[43m,\u001b[49m\u001b[43m \u001b[49m\u001b[38;5;241;43m*\u001b[39;49m\u001b[38;5;28;43mself\u001b[39;49m\u001b[38;5;241;43m.\u001b[39;49m\u001b[43mobs_shape\u001b[49m\u001b[43m)\u001b[49m\u001b[43m,\u001b[49m\u001b[43m \u001b[49m\u001b[43mdtype\u001b[49m\u001b[38;5;241;43m=\u001b[39;49m\u001b[43mobservation_space\u001b[49m\u001b[38;5;241;43m.\u001b[39;49m\u001b[43mdtype\u001b[49m\u001b[43m)\u001b[49m\n\u001b[0;32m    204\u001b[0m \u001b[38;5;28;01mif\u001b[39;00m optimize_memory_usage:\n\u001b[0;32m    205\u001b[0m     \u001b[38;5;66;03m# `observations` contains also the next observation\u001b[39;00m\n\u001b[0;32m    206\u001b[0m     \u001b[38;5;28mself\u001b[39m\u001b[38;5;241m.\u001b[39mnext_observations \u001b[38;5;241m=\u001b[39m \u001b[38;5;28;01mNone\u001b[39;00m\n",
      "\u001b[1;31mMemoryError\u001b[0m: Unable to allocate 191. MiB for an array with shape (1000000, 1, 50) and data type float32"
     ]
    }
   ],
   "source": [
    "from stable_baselines3.dqn import DQN\n",
    "from citylearn.citylearn import CityLearnEnv\n",
    "from citylearn.wrappers import NormalizedObservationWrapper, StableBaselines3Wrapper\n",
    "import sys\n",
    "from pathlib import Path\n",
    "sys.path.append(str(Path.cwd().parent))\n",
    "from helpers.custom_callback import CustomCallback\n",
    "from wrappers.DQNActionWrapper import DQNActionWrapper\n",
    "from itertools import product\n",
    "\n",
    "dqn_env = CityLearnEnv(schema, central_agent=True)\n",
    "dqn_env = NormalizedObservationWrapper(dqn_env)\n",
    "dqn_env = StableBaselines3Wrapper(dqn_env)\n",
    "\n",
    "action_bins = {'electrical_storage': 7, 'dhw_storage': 7, 'cooling_device': 7}\n",
    "action_bin_sizes = []\n",
    "for b in dqn_env.buildings:\n",
    "    action_bin_sizes.append(action_bins)\n",
    "\n",
    "dqn_env = DQNActionWrapper(dqn_env, action_bin_sizes)\n",
    "\n",
    "hyperparameters = {\n",
    "    'gamma': [0.99, 0.95, 0.90],\n",
    "    # 'buffer_size': [10000, 50000, 100000],\n",
    "    'learning_rate': [0.001, 0.0005, 0.0001],\n",
    "    'exploration_initial_eps': [1, 0.5, 0.1],\n",
    "    'exploration_final_eps': [0.1, 0.01, 0.001]\n",
    "}\n",
    "\n",
    "\n",
    "# Initialize lists to store results\n",
    "results = []\n",
    "count = 0\n",
    "iterations = len(list(product(*hyperparameters.values())))\n",
    "print(f\"Total number of iterations: {iterations}\")\n",
    "\n",
    "# Loop through combinations of hyperparameters\n",
    "for param_values in product(*hyperparameters.values()):\n",
    "    kwargs = {param_name: param_value for param_name, param_value in zip(hyperparameters.keys(), param_values)}\n",
    "    # Initialize the SAC model with current hyperparameters\n",
    "    dqn_model = DQN(\"MlpPolicy\", dqn_env, seed=random_seed, learning_starts=0, **kwargs)\n",
    "\n",
    "    # Calculate total timesteps\n",
    "    total_timesteps = number_of_episodes * (dqn_env.time_steps - 1)\n",
    "    \n",
    "    # Initialize callback\n",
    "    dqn_callback = CustomCallback(dqn_env, total_timesteps=total_timesteps)\n",
    "\n",
    "    # Train the SAC model\n",
    "    dqn_model.learn(total_timesteps=total_timesteps, callback=dqn_callback)\n",
    "\n",
    "    observations = dqn_env.reset()\n",
    "\n",
    "    while not dqn_env.done:\n",
    "        actions, _ = dqn_model.predict(observations, deterministic=True)\n",
    "        observations, _, _, _ = dqn_env.step(actions)\n",
    "\n",
    "    # Evaluate the model and store results\n",
    "    kpis = dqn_env.evaluate()\n",
    "    kpis = kpis.pivot(index='cost_function', columns='name', values='value')\n",
    "    kpis = kpis.dropna(how='all')\n",
    "    results.append({\n",
    "        'hyperparameters': kwargs,\n",
    "        'callback': dqn_callback,\n",
    "        'kpis': kpis\n",
    "    })\n",
    "\n",
    "    count += 1\n",
    "    print(count)"
   ]
  },
  {
   "cell_type": "code",
   "execution_count": 41,
   "metadata": {},
   "outputs": [
    {
     "data": {
      "text/plain": [
       "[None]"
      ]
     },
     "execution_count": 41,
     "metadata": {},
     "output_type": "execute_result"
    },
    {
     "data": {
      "image/png": "[encoded data removed]",
      "text/plain": [
       "<Figure size 1400x800 with 6 Axes>"
      ]
     },
     "metadata": {},
     "output_type": "display_data"
    }
   ],
   "source": [
    "import matplotlib.pyplot as plt\n",
    "from itertools import combinations\n",
    "import pandas as pd\n",
    "import matplotlib.pyplot as plt\n",
    "import seaborn as sns\n",
    "\n",
    "%matplotlib inline\n",
    "\n",
    "param_combinations = list(combinations(hyperparameters, 2))\n",
    "\n",
    "num_subplots = len(param_combinations)\n",
    "num_cols = min(num_subplots, 2)\n",
    "num_rows = (num_subplots + 1) // 2\n",
    "fig, axes = plt.subplots(nrows=num_rows, ncols=num_cols, figsize=(14, 8))\n",
    "\n",
    "for ax, param_combination in zip(axes.flatten(), param_combinations):\n",
    "    max_index = min(range(len(results)), key=lambda i: results[i]['kpis'].loc['cost_total'][-1])\n",
    "\n",
    "    # Access the gamma value of the hyperparameters at max_index\n",
    "    set_params = results[max_index]['hyperparameters']\n",
    "    set_params = {key: value for key, value in set_params.items() if key not in param_combination}\n",
    "\n",
    "    filtered_results = [item for item in results if all(item['hyperparameters'][key] == value for key, value in set_params.items())]\n",
    "\n",
    "    param1, param2 = param_combination\n",
    "    # Prepare data for heatmap\n",
    "    data = {\n",
    "        param1: [],\n",
    "        param2: [],\n",
    "        'Total Cost': []\n",
    "    }\n",
    "\n",
    "    for result in filtered_results:\n",
    "        param1_value = result['hyperparameters'][param1]\n",
    "        param2_value = result['hyperparameters'][param2]\n",
    "        total_cost = result['kpis'].loc['cost_total'].iloc[-1]  # Get the final total cost value\n",
    "        data[param1].append(param1_value)\n",
    "        data[param2].append(param2_value)\n",
    "        data['Total Cost'].append(total_cost)\n",
    "\n",
    "    # Create DataFrame from the data\n",
    "    df = pd.DataFrame(data)\n",
    "\n",
    "    # Aggregate the data (e.g., using mean total cost) for each unique combination of learning rate and discount factor\n",
    "    agg_df = df.groupby([param1, param2]).mean().reset_index()\n",
    "\n",
    "    # Pivot the DataFrame to create the heatmap\n",
    "    heatmap_data = agg_df.pivot(param1, param2, 'Total Cost')\n",
    "\n",
    "    # Create the heatmap\n",
    "    sns.heatmap(heatmap_data, annot=True, cmap='YlGnBu', fmt=\".2f\", cbar_kws={'label': 'Total Cost'}, ax=ax)\n",
    "    ax.set_xlabel(param2)\n",
    "    ax.set_ylabel(param1)\n",
    "\n",
    "# delete empty subplots\n",
    "[fig.delaxes(ax) for ax in axes.flatten() if not ax.has_data()]"
   ]
  }
 ],
 "metadata": {
  "kernelspec": {
   "display_name": "Python 3",
   "language": "python",
   "name": "python3"
  },
  "language_info": {
   "codemirror_mode": {
    "name": "ipython",
    "version": 3
   },
   "file_extension": ".py",
   "mimetype": "text/x-python",
   "name": "python",
   "nbconvert_exporter": "python",
   "pygments_lexer": "ipython3",
   "version": "3.10.11"
  }
 },
 "nbformat": 4,
 "nbformat_minor": 2
}
