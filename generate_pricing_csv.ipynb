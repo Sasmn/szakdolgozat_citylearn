{
 "cells": [
  {
   "cell_type": "code",
   "execution_count": 5,
   "metadata": {},
   "outputs": [],
   "source": [
    "import pandas as pd\n",
    "\n",
    "# Create the data for the CSV\n",
    "data = []\n",
    "for i in range(2208):\n",
    "    if i % 24 < 7:\n",
    "        data.append([0.086256, 0.086256, 0.086256, 0.086256])\n",
    "    elif i % 24 < 23:\n",
    "        data.append([0.114125, 0.114125, 0.114125, 0.114125])\n",
    "    else:\n",
    "        data.append([0.086256, 0.086256, 0.086256, 0.086256])\n",
    "\n",
    "# Create a DataFrame\n",
    "df = pd.DataFrame(data, columns=['Electricity Pricing [$/kWh]', '6h Prediction Electricity Pricing [$/kWh]', '12h Prediction Electricity Pricing [$/kWh]', '24h Prediction Electricity Pricing [$/kWh]'])\n",
    "\n",
    "# Save the DataFrame to a CSV file\n",
    "df.to_csv('data/citylearn_challenge_2023_phase_3_3/pricing_data_mvm_A2.csv', index=False)"
   ]
  }
 ],
 "metadata": {
  "kernelspec": {
   "display_name": "Python 3",
   "language": "python",
   "name": "python3"
  },
  "language_info": {
   "codemirror_mode": {
    "name": "ipython",
    "version": 3
   },
   "file_extension": ".py",
   "mimetype": "text/x-python",
   "name": "python",
   "nbconvert_exporter": "python",
   "pygments_lexer": "ipython3",
   "version": "3.10.11"
  }
 },
 "nbformat": 4,
 "nbformat_minor": 2
}
