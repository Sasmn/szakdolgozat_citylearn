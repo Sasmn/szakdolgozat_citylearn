{
 "cells": [
  {
   "cell_type": "code",
   "execution_count": 7,
   "metadata": {},
   "outputs": [
    {
     "name": "stderr",
     "output_type": "stream",
     "text": [
      "C:\\Users\\Domonkos\\AppData\\Local\\Temp\\ipykernel_9256\\3491808881.py:16: SettingWithCopyWarning: \n",
      "A value is trying to be set on a copy of a slice from a DataFrame.\n",
      "Try using .loc[row_indexer,col_indexer] = value instead\n",
      "\n",
      "See the caveats in the documentation: https://pandas.pydata.org/pandas-docs/stable/user_guide/indexing.html#returning-a-view-versus-a-copy\n",
      "  carbon_intensity_summer_filtered['Carbon Intensity gCO₂eq/kWh (direct)'] = carbon_intensity_summer_filtered['Carbon Intensity gCO₂eq/kWh (direct)'] / 1000\n"
     ]
    }
   ],
   "source": [
    "import pandas as pd\n",
    "\n",
    "# Load the CSV file\n",
    "df = pd.read_csv(\"carbon_intensity_HU_hourly.csv\")\n",
    "\n",
    "# Convert the first column to datetime if it's not already\n",
    "df['Datetime'] = pd.to_datetime(df['Datetime (UTC)'])\n",
    "\n",
    "# Filter rows for the summer of 2023\n",
    "carbon_intensity_summer = df[(df['Datetime'] >= '2023-06-01 01:00') & (df['Datetime'] <= '2023-09-01 00:00')]\n",
    "\n",
    "# Save only the fifth column\n",
    "carbon_intensity_summer_filtered = carbon_intensity_summer[['Carbon Intensity gCO₂eq/kWh (direct)']]\n",
    "\n",
    "# Convert the column to kg_CO2/kWh\n",
    "carbon_intensity_summer_filtered['Carbon Intensity gCO₂eq/kWh (direct)'] = carbon_intensity_summer_filtered['Carbon Intensity gCO₂eq/kWh (direct)'] / 1000\n",
    "\n",
    "# Rename the column\n",
    "carbon_intensity_summer_filtered.rename(columns={'Carbon Intensity gCO₂eq/kWh (direct)': 'kg_CO2/kWh'}, inplace=True)\n",
    "\n",
    "# Save to a new CSV file\n",
    "carbon_intensity_summer_filtered.to_csv(\"data/citylearn_challenge_2023_phase_3_3/carbon_intensity_HU.csv\", index=False)"
   ]
  }
 ],
 "metadata": {
  "kernelspec": {
   "display_name": "Python 3",
   "language": "python",
   "name": "python3"
  },
  "language_info": {
   "codemirror_mode": {
    "name": "ipython",
    "version": 3
   },
   "file_extension": ".py",
   "mimetype": "text/x-python",
   "name": "python",
   "nbconvert_exporter": "python",
   "pygments_lexer": "ipython3",
   "version": "3.10.11"
  }
 },
 "nbformat": 4,
 "nbformat_minor": 2
}
